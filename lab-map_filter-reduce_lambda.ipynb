{
 "cells": [
  {
   "cell_type": "markdown",
   "metadata": {},
   "source": [
    "# LAB | Map, Reduce, Filter, and Lambda in Python"
   ]
  },
  {
   "cell_type": "markdown",
   "metadata": {},
   "source": [
    "## Overview\n",
    "This exercise notebook will help you practice using `map`, `reduce`, `filter`, and `lambda` functions in Python. These functional programming techniques allow for concise and efficient data manipulation.\n",
    "\n",
    "## Instructions\n",
    "- Complete each exercise by writing the appropriate code in the provided space.\n",
    "- Test your code to ensure it works as expected.\n",
    "- Feel free to use comments to explain your thought process."
   ]
  },
  {
   "cell_type": "markdown",
   "metadata": {},
   "source": [
    "### Exercise 1: Triple All Numbers\n",
    "Write a Python program that triples all numbers in a given list of integers using the `map` function.\n"
   ]
  },
  {
   "cell_type": "code",
   "execution_count": 2,
   "metadata": {},
   "outputs": [
    {
     "name": "stdout",
     "output_type": "stream",
     "text": [
      "3 6 9 12 15\n"
     ]
    }
   ],
   "source": [
    "# Sample input\n",
    "numbers = [1, 2, 3, 4, 5]\n",
    "triple_numbers = list(map(lambda x : x * 3, numbers))\n",
    "print(*triple_numbers)\n",
    "# Your code here"
   ]
  },
  {
   "cell_type": "code",
   "execution_count": 36,
   "metadata": {},
   "outputs": [
    {
     "data": {
      "text/plain": [
       "[1, 2, 3, 4, 5, 6, 8, 7]"
      ]
     },
     "execution_count": 36,
     "metadata": {},
     "output_type": "execute_result"
    }
   ],
   "source": [
    "from functools import reduce\n",
    "lists = [[1, 2], [3 , 4], [5 , 6, 8], [7]]\n",
    "reduce(lambda x, y : x + y, (lists))"
   ]
  },
  {
   "cell_type": "markdown",
   "metadata": {},
   "source": [
    "### Exercise 2: Add Three Lists\n",
    "Write a Python program that adds three given lists element-wise using the `map` function and `lambda`."
   ]
  },
  {
   "cell_type": "code",
   "execution_count": 6,
   "metadata": {},
   "outputs": [
    {
     "data": {
      "text/plain": [
       "[12, 15, 18]"
      ]
     },
     "execution_count": 6,
     "metadata": {},
     "output_type": "execute_result"
    }
   ],
   "source": [
    "# Sample input\n",
    "list1 = [1, 2, 3]\n",
    "list2 = [4, 5, 6]\n",
    "list3 = [7, 8, 9]\n",
    "\n",
    "list(map((lambda x, y, z : x + y + z), list1, list2, list3))\n",
    "\n",
    "# Your code here"
   ]
  },
  {
   "cell_type": "markdown",
   "metadata": {},
   "source": [
    "### Exercise 3: Listify Strings\n",
    "Write a Python program that converts a list of strings into a list of lists containing individual characters using the `map` function."
   ]
  },
  {
   "cell_type": "code",
   "execution_count": 9,
   "metadata": {},
   "outputs": [
    {
     "data": {
      "text/plain": [
       "[['h', 'e', 'l', 'l', 'o'], ['w', 'o', 'r', 'l', 'd']]"
      ]
     },
     "execution_count": 9,
     "metadata": {},
     "output_type": "execute_result"
    }
   ],
   "source": [
    "# Sample input\n",
    "strings = [\"hello\", \"world\"]\n",
    "\n",
    "def str_to_letter(string):\n",
    "    list_of_letters = []\n",
    "    for c in string:\n",
    "        list_of_letters.append(c)\n",
    "    return list_of_letters\n",
    "\n",
    "list_of_lists = list(map(str_to_letter, strings))\n",
    "list_of_lists\n",
    "\n",
    "# Your code here"
   ]
  },
  {
   "cell_type": "markdown",
   "metadata": {},
   "source": [
    "### Exercise 4: Power of Numbers\n",
    "Write a Python program that creates a list containing the power of a number raised to the corresponding index in the list using the `map` function."
   ]
  },
  {
   "cell_type": "code",
   "execution_count": 31,
   "metadata": {},
   "outputs": [
    {
     "data": {
      "text/plain": [
       "[1, 1, 4, 27, 256]"
      ]
     },
     "execution_count": 31,
     "metadata": {},
     "output_type": "execute_result"
    }
   ],
   "source": [
    "# Sample input\n",
    "base_number = 2\n",
    "exponents = [0, 1, 2, 3, 4]\n",
    "\n",
    "raised_list = list(map(lambda x: x[1] ** x[0], enumerate(exponents)))\n",
    "raised_list\n",
    "\n",
    "\n",
    "# Your code here"
   ]
  },
  {
   "cell_type": "markdown",
   "metadata": {},
   "source": [
    "### Exercise 5: Square Elements of a List\n",
    "Write a Python program that squares the elements of a given list using the `map` function."
   ]
  },
  {
   "cell_type": "code",
   "execution_count": 53,
   "metadata": {},
   "outputs": [
    {
     "data": {
      "text/plain": [
       "[1, 4, 9, 16]"
      ]
     },
     "execution_count": 53,
     "metadata": {},
     "output_type": "execute_result"
    }
   ],
   "source": [
    "# Sample input\n",
    "numbers = [1, 2, 3, 4]\n",
    "\n",
    "sqr_numbers = list(map(lambda x: x ** 2, numbers))\n",
    "sqr_numbers\n",
    "\n",
    "# Your code here"
   ]
  },
  {
   "cell_type": "markdown",
   "metadata": {},
   "source": [
    "### Exercise 6: Filter Even Numbers\n",
    "Write a Python program that filters out even numbers from a list using the `filter` function and `lambda`.\n"
   ]
  },
  {
   "cell_type": "code",
   "execution_count": 55,
   "metadata": {},
   "outputs": [
    {
     "data": {
      "text/plain": [
       "[2, 4, 6]"
      ]
     },
     "execution_count": 55,
     "metadata": {},
     "output_type": "execute_result"
    }
   ],
   "source": [
    "# Sample input\n",
    "numbers = [1, 2, 3, 4, 5, 6]\n",
    "even_numbers = list(filter(lambda x : x % 2 == 0 , numbers))\n",
    "even_numbers\n",
    "\n",
    "# Your code here"
   ]
  },
  {
   "cell_type": "markdown",
   "metadata": {},
   "source": [
    "### Exercise 7: Uppercase Conversion with Map\n",
    "Write a Python program that converts all characters in a given list of strings to uppercase using the `map` function."
   ]
  },
  {
   "cell_type": "code",
   "execution_count": 59,
   "metadata": {},
   "outputs": [
    {
     "data": {
      "text/plain": [
       "['HELLO', 'WORLD']"
      ]
     },
     "execution_count": 59,
     "metadata": {},
     "output_type": "execute_result"
    }
   ],
   "source": [
    "# Sample input\n",
    "words = [\"hello\", \"world\"]\n",
    "upper_words = list(map(lambda word : word.upper(), words))\n",
    "upper_words\n",
    "# Your code here"
   ]
  },
  {
   "cell_type": "markdown",
   "metadata": {},
   "source": [
    "### Exercise 8: Count Positive and Negative Numbers with Filter\n",
    "Write a Python program that counts how many positive and negative numbers are in a given list using the `filter` function."
   ]
  },
  {
   "cell_type": "code",
   "execution_count": 62,
   "metadata": {},
   "outputs": [
    {
     "name": "stdout",
     "output_type": "stream",
     "text": [
      "There are 3 positive and 3 negative numbers in the list\n"
     ]
    }
   ],
   "source": [
    "# Sample input\n",
    "numbers = [-1, -2, -3, 0, 1, 2, 3]\n",
    "count_positive = len(list(filter(lambda x : x > 0, numbers)))\n",
    "count_negative = len(list(filter(lambda x : x < 0, numbers)))\n",
    "print(f\"There are {count_positive} positive and {count_negative} negative numbers in the list\")\n",
    "# Your code here"
   ]
  },
  {
   "cell_type": "markdown",
   "metadata": {},
   "source": [
    "### Exercise 9: Sum of Squares with Reduce\n",
    "Using the `reduce` function from the `functools` module, compute the sum of squares of all numbers in a given list.\n"
   ]
  },
  {
   "cell_type": "code",
   "execution_count": 66,
   "metadata": {},
   "outputs": [
    {
     "data": {
      "text/plain": [
       "55"
      ]
     },
     "execution_count": 66,
     "metadata": {},
     "output_type": "execute_result"
    }
   ],
   "source": [
    "from functools import reduce\n",
    "\n",
    "# Sample input\n",
    "numbers = [1, 2, 3, 4, 5]\n",
    "\n",
    "sum_of_sqr = reduce(lambda x, y : x + y ** 2, numbers)\n",
    "sum_of_sqr\n",
    "\n",
    "# Your code here"
   ]
  },
  {
   "cell_type": "markdown",
   "metadata": {},
   "source": [
    "### Exercise 10: Lambda Function for Addition\n",
    "Create a lambda function that adds two numbers and test it with sample inputs."
   ]
  },
  {
   "cell_type": "code",
   "execution_count": 25,
   "metadata": {},
   "outputs": [
    {
     "name": "stdout",
     "output_type": "stream",
     "text": [
      "15\n"
     ]
    }
   ],
   "source": [
    "# Your code here\n",
    "add = lambda x, y: x + y\n",
    "\n",
    "# Test the lambda function with sample inputs\n",
    "result = add(10, 5)\n",
    "print(result) # Expected output:"
   ]
  },
  {
   "cell_type": "markdown",
   "metadata": {},
   "source": [
    "### Exercise 11: Filter Strings with Specific Lengths \n",
    "Write a Python program that filters strings from a list based on their length using the `filter` function."
   ]
  },
  {
   "cell_type": "code",
   "execution_count": 71,
   "metadata": {},
   "outputs": [
    {
     "name": "stdout",
     "output_type": "stream",
     "text": [
      "['date', 'dog', 'cat']\n",
      "['elephant', 'horizon']\n"
     ]
    }
   ],
   "source": [
    "# Sample input\n",
    "words = [\"apple\", \"banana\", \"cherry\", \"date\", \"banana\", \"cherry\", \"dragon\", \"elephant\", \"dog\", \"cat\", \"horizon\", \"island\", \"jungle\"]\n",
    "short_words = list(filter((lambda x : len(x) < 5), words))\n",
    "print(short_words)\n",
    "long_words = list(filter((lambda x : len(x) > 6), words))\n",
    "print(long_words)\n",
    "\n",
    "# Your code here"
   ]
  },
  {
   "cell_type": "markdown",
   "metadata": {},
   "source": [
    "### Exercise 12: Sort List of Tuples by Second Element \n",
    "Write a Python program that sorts a list of tuples based on the second element using the `sorted()` function and `lambda`."
   ]
  },
  {
   "cell_type": "code",
   "execution_count": 72,
   "metadata": {},
   "outputs": [
    {
     "data": {
      "text/plain": [
       "[('b', 1), ('a', 2), ('c', 3)]"
      ]
     },
     "execution_count": 72,
     "metadata": {},
     "output_type": "execute_result"
    }
   ],
   "source": [
    "# Sample input\n",
    "tuples_list = [('a', 2), ('b', 1), ('c', 3)]\n",
    "\n",
    "sorted_list = sorted(tuples_list, key = lambda x: x[1])\n",
    "sorted_list\n",
    "\n",
    "# Your code here"
   ]
  },
  {
   "cell_type": "markdown",
   "metadata": {},
   "source": [
    "### Exercise 13: Create Fibonacci Series Using Lambda \n",
    "Write a Python program to create Fibonacci series up to n using lambda functions."
   ]
  },
  {
   "cell_type": "code",
   "execution_count": 80,
   "metadata": {},
   "outputs": [
    {
     "name": "stdout",
     "output_type": "stream",
     "text": [
      "[0, 1, 1, 2, 3]\n"
     ]
    }
   ],
   "source": [
    "n = int(input(\"Enter n: \")) # e.g., n=5\n",
    "\n",
    "fibonacci = [reduce(lambda x, i: x + [x[-1] + x[-2]], range(n - 2), [0, 1])]\n",
    "print(*fibonacci)\n",
    "# Your code here"
   ]
  },
  {
   "cell_type": "markdown",
   "metadata": {},
   "source": [
    "### Exercise 14: Find Palindromes Using Filter \n",
    "Write a Python program that finds palindromes in a given list of strings using filter and lambda."
   ]
  },
  {
   "cell_type": "code",
   "execution_count": 82,
   "metadata": {},
   "outputs": [
    {
     "data": {
      "text/plain": [
       "['php', 'aaa']"
      ]
     },
     "execution_count": 82,
     "metadata": {},
     "output_type": "execute_result"
    }
   ],
   "source": [
    "strings = ['php', 'w3r', 'Python', 'abcd', 'Java', 'aaa']\n",
    "\n",
    "palindromes = list(filter(lambda s: s == s [::-1], strings))\n",
    "palindromes\n",
    "\n",
    "# Your code here"
   ]
  },
  {
   "cell_type": "markdown",
   "metadata": {},
   "source": [
    "### Exercise 15: Extract Digits from String Using Lambda \n",
    "Write a Python program to extract digits from a given string and store them in a list using lambda."
   ]
  },
  {
   "cell_type": "code",
   "execution_count": 83,
   "metadata": {},
   "outputs": [
    {
     "data": {
      "text/plain": [
       "['2', '3', '8', '5', '8', '5', '6']"
      ]
     },
     "execution_count": 83,
     "metadata": {},
     "output_type": "execute_result"
    }
   ],
   "source": [
    "input_string = \"sdf23sa8fs5sdfsd8sdfs56\"\n",
    "digits = list(filter(lambda c : c.isdigit(), input_string))\n",
    "digits\n",
    "# Your code here"
   ]
  },
  {
   "cell_type": "markdown",
   "metadata": {},
   "source": [
    "### Exercise 16: Count Vowels Using Lambda \n",
    "Write a Python program to count vowels in each word of a given list using map and lambda."
   ]
  },
  {
   "cell_type": "code",
   "execution_count": 91,
   "metadata": {},
   "outputs": [
    {
     "name": "stdout",
     "output_type": "stream",
     "text": [
      "[2, 3, 1]\n"
     ]
    }
   ],
   "source": [
    "words = ['apple', 'banana', 'cherry']\n",
    "number_of_vowels = list(map(lambda word: sum(1 for char in word if char.lower() in 'aeiou'), words))\n",
    "print(number_of_vowels)\n",
    "# Your code here"
   ]
  },
  {
   "cell_type": "markdown",
   "metadata": {},
   "source": [
    "### Exercise 17: Remove Duplicates Using Lambda \n",
    "Write a Python program that removes duplicates from a list while preserving order using lambda functions."
   ]
  },
  {
   "cell_type": "code",
   "execution_count": 107,
   "metadata": {},
   "outputs": [
    {
     "data": {
      "text/plain": [
       "[1, 2, 3, 5]"
      ]
     },
     "execution_count": 107,
     "metadata": {},
     "output_type": "execute_result"
    }
   ],
   "source": [
    "numbers = [1, 2, 3, 5, 1, 2]\n",
    "uniq_numbers = []\n",
    "list(map(lambda i : uniq_numbers.append(i) if i not in uniq_numbers else None, numbers))\n",
    "uniq_numbers\n",
    "# Your code here"
   ]
  },
  {
   "cell_type": "markdown",
   "metadata": {},
   "source": [
    "### Exercise 18: Find Maximum Value Using Reduce \n",
    "Use the reduce function to find the maximum value in a list of integers."
   ]
  },
  {
   "cell_type": "code",
   "execution_count": 111,
   "metadata": {},
   "outputs": [
    {
     "data": {
      "text/plain": [
       "50"
      ]
     },
     "execution_count": 111,
     "metadata": {},
     "output_type": "execute_result"
    }
   ],
   "source": [
    "numbers = [1, -5, -10, -20, 50, 5]\n",
    "\n",
    "# Your code here\n",
    "\n",
    "max_int = reduce(lambda acc, cur : cur if cur > acc else acc, numbers)\n",
    "max_int"
   ]
  },
  {
   "cell_type": "markdown",
   "metadata": {},
   "source": [
    "### Exercise 19: Filter Out Non-Numeric Values Using Lambda \n",
    "Write a Python program that filters out non-numeric values from an array using lambda functions."
   ]
  },
  {
   "cell_type": "code",
   "execution_count": 124,
   "metadata": {},
   "outputs": [
    {
     "data": {
      "text/plain": [
       "[1, -5.0]"
      ]
     },
     "execution_count": 124,
     "metadata": {},
     "output_type": "execute_result"
    }
   ],
   "source": [
    "mixed_list = [1, 'two', True, None, -5.0]\n",
    "num_list = list(filter(lambda i:  isinstance(i, (int, float)) and not isinstance(i, bool), mixed_list))\n",
    "num_list\n",
    "# Your code here"
   ]
  },
  {
   "cell_type": "markdown",
   "metadata": {},
   "source": [
    "### Exercise 20: Calculate Lengths of Strings Using Map \n",
    "Create a program that calculates the lengths of each string in a given list using map and lambda."
   ]
  },
  {
   "cell_type": "code",
   "execution_count": 125,
   "metadata": {},
   "outputs": [
    {
     "data": {
      "text/plain": [
       "[5, 6, 6]"
      ]
     },
     "execution_count": 125,
     "metadata": {},
     "output_type": "execute_result"
    }
   ],
   "source": [
    "strings = ['apple', 'banana', 'cherry']\n",
    "list_of_length = list(map(len, strings))\n",
    "list_of_length\n",
    "# Your code here"
   ]
  },
  {
   "cell_type": "markdown",
   "metadata": {},
   "source": [
    "### Exercise 21: Find Common Elements Between Two Lists Using Filter  \n",
    "Write a Python program to find common elements between two lists using filter and lambda."
   ]
  },
  {
   "cell_type": "code",
   "execution_count": 127,
   "metadata": {},
   "outputs": [
    {
     "data": {
      "text/plain": [
       "[2, 3]"
      ]
     },
     "execution_count": 127,
     "metadata": {},
     "output_type": "execute_result"
    }
   ],
   "source": [
    "list1 = [1,2,3]\n",
    "list2 = [2,3,4]\n",
    "\n",
    "list(filter(lambda i : i in list2, list1))\n",
    "\n",
    "# Your code here"
   ]
  },
  {
   "cell_type": "markdown",
   "metadata": {},
   "source": [
    "### Exercise 22: Convert Celsius to Fahrenheit Using Map  \n",
    "Create a program that converts temperatures from Celsius to Fahrenheit using map and lambda functions."
   ]
  },
  {
   "cell_type": "code",
   "execution_count": 129,
   "metadata": {},
   "outputs": [
    {
     "data": {
      "text/plain": [
       "[32.0, 14.0, -40.0]"
      ]
     },
     "execution_count": 129,
     "metadata": {},
     "output_type": "execute_result"
    }
   ],
   "source": [
    "celsius_temps = [0, -10, -40]\n",
    "fahrenheit_temp = list(map(lambda x : x * 9 / 5 + 32, celsius_temps))\n",
    "fahrenheit_temp\n",
    "# Your code here"
   ]
  },
  {
   "cell_type": "markdown",
   "metadata": {},
   "source": [
    "### Exercise 23: Check for Prime Numbers Using Filter  \n",
    "Write a Python program that filters out prime numbers from an array of integers using filter and lambda functions."
   ]
  },
  {
   "cell_type": "code",
   "execution_count": 136,
   "metadata": {},
   "outputs": [
    {
     "data": {
      "text/plain": [
       "[23, 7, 41]"
      ]
     },
     "execution_count": 136,
     "metadata": {},
     "output_type": "execute_result"
    }
   ],
   "source": [
    "numbers = [10, 15, 23, 7, 1, -5, 41]\n",
    "\n",
    "prime_numbers = list(filter(lambda x : all(x % i != 0 for i in range(2, x//2 + 1)) and x > 1, numbers))\n",
    "prime_numbers\n",
    "\n",
    "# Your code here"
   ]
  },
  {
   "cell_type": "markdown",
   "metadata": {},
   "source": [
    "### Exercise 24: Grouping by Length Using Lambda  \n",
    "Group words by their lengths from an array into separate lists using lambda functions."
   ]
  },
  {
   "cell_type": "code",
   "execution_count": 137,
   "metadata": {},
   "outputs": [
    {
     "data": {
      "text/plain": [
       "[['pear', 'kiwi'], ['apple'], ['banana']]"
      ]
     },
     "execution_count": 137,
     "metadata": {},
     "output_type": "execute_result"
    }
   ],
   "source": [
    "words = ['apple', 'banana', 'pear', 'kiwi']\n",
    "[list(filter(lambda x : len(x) == l, words)) for l in set(map(len, words))]\n",
    "\n",
    "# Your code here"
   ]
  },
  {
   "cell_type": "code",
   "execution_count": 138,
   "metadata": {},
   "outputs": [
    {
     "data": {
      "text/plain": [
       "{4: ['pear', 'kiwi'], 5: ['apple'], 6: ['banana']}"
      ]
     },
     "execution_count": 138,
     "metadata": {},
     "output_type": "execute_result"
    }
   ],
   "source": [
    "from itertools import groupby\n",
    "words = ['apple', 'banana', 'pear', 'kiwi']\n",
    "# Sort the words by length first (groupby requires sorted input)\n",
    "words.sort(key=lambda word: len(word))\n",
    "# Use groupby to group words by their length\n",
    "grouped = {length: list(group) for length, group in groupby(words, key=lambda word: len(word))}\n",
    "grouped"
   ]
  },
  {
   "cell_type": "markdown",
   "metadata": {},
   "source": [
    "### Exercise Completion  \n",
    "Once you have completed all exercises:\n",
    "- Review your solutions.\n",
    "- Ensure your code is well-documented with comments explaining your logic.\n",
    "- Save your notebook for submission or further review.\n",
    "\n",
    "Happy coding! Enjoy exploring functional programming with Python!"
   ]
  },
  {
   "cell_type": "markdown",
   "metadata": {},
   "source": []
  }
 ],
 "metadata": {
  "kernelspec": {
   "display_name": "Python 3",
   "language": "python",
   "name": "python3"
  },
  "language_info": {
   "codemirror_mode": {
    "name": "ipython",
    "version": 3
   },
   "file_extension": ".py",
   "mimetype": "text/x-python",
   "name": "python",
   "nbconvert_exporter": "python",
   "pygments_lexer": "ipython3",
   "version": "3.13.1"
  }
 },
 "nbformat": 4,
 "nbformat_minor": 2
}
